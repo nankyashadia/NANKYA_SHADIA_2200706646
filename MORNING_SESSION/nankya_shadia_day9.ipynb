{
 "cells": [
  {
   "cell_type": "code",
   "execution_count": 2,
   "metadata": {},
   "outputs": [
    {
     "name": "stdout",
     "output_type": "stream",
     "text": [
      "    number_siblings                       name  gender  age living_allowance  \\\n",
      "0                 1         Nakasujja Gertrude  female   33              NaN   \n",
      "1                 3      Arinda Asiimwe Atweta  female   23           50,000   \n",
      "2                 4        Ndjekornom Victoire    male   23           25,000   \n",
      "3                 0             KATURAMU EDGAR    male   27          500,000   \n",
      "4                 4          Abinsinguza Lasse    male   24          100,000   \n",
      "5                 4        Beingana Jim Junior    male   20           10,000   \n",
      "6                 6   Cyiza Ndoli Jean de Dieu    male   23           60,000   \n",
      "7                 8        MUSIIMENTA CISSYLYN  female   20          260,000   \n",
      "8                 2           Nakanwagu Vanesa  female   23          250,000   \n",
      "9                 9                Otim Ronald    male   25              NaN   \n",
      "10                1                  Levi Aine    male   24        1,000,000   \n",
      "11                1              NASAAZI TAKIA  female   23            2,000   \n",
      "12                5                      Alvin    male   23        2,500,000   \n",
      "13                3            MULINDWA YUSUF     male   22              NaN   \n",
      "14                2                     Hillal    male   32          150,000   \n",
      "15                9           mpairwe   lauben    male   26          760,000   \n",
      "16                4               Lutalo Allan    male   24          200,000   \n",
      "17                2                Efrata Aron  female   22          200,000   \n",
      "18                4                David Hope     male   22           35,000   \n",
      "19                1             ntegeka k pius    male   30          700,000   \n",
      "20                4            Yapyeko Rebecca  female   24          500,000   \n",
      "21                7      NKETAMUKAMA TARASISIO    male   22          600,000   \n",
      "22                3    Ampaire Stacey Nuwagaba  female   22          300,000   \n",
      "23                5            Ahaabwe Derrick    male   22          200,000   \n",
      "24                0           Ssentongo Henry     male   27              NaN   \n",
      "25                6                     Shadia  female   23           20,000   \n",
      "26                4                     Harlan    male   24          250,000   \n",
      "27                1              AMADILE MAJID    male   23              NaN   \n",
      "28                8                Nankya Elsa  female   23          120,000   \n",
      "29                2         Asiimire Patricia   female   22        1,000,000   \n",
      "30                2           Rwakasiisi Edwin    male   24          150,000   \n",
      "31                5            Ampumuza Aijuka  female   23          500,000   \n",
      "32                5         TUKWASIIBWE MARTIN    male   23          200,000   \n",
      "33                8       Olowo Omondi Philly     male   23              NaN   \n",
      "34                4  Kisembo Rodgers Bangirana    male   23          300,000   \n",
      "35                3           NIWAMANYA JAMES     male   29              NaN   \n",
      "\n",
      "    have_bf_gf                profession  daily_meals  \n",
      "0            1            Data Scientist            2  \n",
      "1            1  Machine Learning Enginer            1  \n",
      "2            0            Data Scientist            1  \n",
      "3            0  Machine Learning Enginer            2  \n",
      "4            1            Data Scientist            2  \n",
      "5            0            Data Scientist            3  \n",
      "6            0              Data Analyst            2  \n",
      "7            0  Machine Learning Enginer            3  \n",
      "8            1            Data Scientist            3  \n",
      "9            0            Data Scientist            2  \n",
      "10           0            Data Scientist            3  \n",
      "11           0              Data Analyst            1  \n",
      "12           1  Machine Learning Enginer            3  \n",
      "13           0            Data Scientist            3  \n",
      "14           0  Machine Learning Enginer            2  \n",
      "15           1  Machine Learning Enginer            3  \n",
      "16           1            Data Scientist            3  \n",
      "17           1              Data Analyst            2  \n",
      "18           0  Machine Learning Enginer            3  \n",
      "19           0            Data Scientist            3  \n",
      "20           0            Data Scientist            3  \n",
      "21           0  Machine Learning Enginer            2  \n",
      "22           0              Data Analyst            2  \n",
      "23           0            Data Scientist            2  \n",
      "24           0  Machine Learning Enginer            1  \n",
      "25           0            Data Scientist            2  \n",
      "26           0            Data Scientist            3  \n",
      "27           0              Data Analyst            2  \n",
      "28           1            Data Scientist            2  \n",
      "29           0            Data Scientist            3  \n",
      "30           1            Data Scientist            3  \n",
      "31           0            Data Scientist            2  \n",
      "32           0              Data Analyst            2  \n",
      "33           1            Data Scientist            2  \n",
      "34           0              Data Analyst            3  \n",
      "35           1  Machine Learning Enginer            1  \n"
     ]
    }
   ],
   "source": [
    "#load the bse dataset\n",
    "import pandas as pd\n",
    "import numpy as np\n",
    "data=pd.read_csv('bse_data.csv')\n",
    "print(data)\n"
   ]
  },
  {
   "cell_type": "code",
   "execution_count": 3,
   "metadata": {},
   "outputs": [
    {
     "name": "stdout",
     "output_type": "stream",
     "text": [
      "number_siblings      int64\n",
      "name                object\n",
      "gender              object\n",
      "age                  int64\n",
      "living_allowance    object\n",
      "have_bf_gf           int64\n",
      "profession          object\n",
      "daily_meals          int64\n",
      "dtype: object\n"
     ]
    }
   ],
   "source": [
    "#check for wrong data\n",
    "print(data.dtypes)"
   ]
  },
  {
   "cell_type": "code",
   "execution_count": 6,
   "metadata": {},
   "outputs": [
    {
     "ename": "AttributeError",
     "evalue": "'DataFrame' object has no attribute 'label'",
     "output_type": "error",
     "traceback": [
      "\u001b[1;31m---------------------------------------------------------------------------\u001b[0m",
      "\u001b[1;31mAttributeError\u001b[0m                            Traceback (most recent call last)",
      "\u001b[1;32m~\\AppData\\Local\\Temp\\ipykernel_2428\\3033748866.py\u001b[0m in \u001b[0;36m?\u001b[1;34m()\u001b[0m\n\u001b[0;32m      1\u001b[0m \u001b[1;31m#Data preprocessing\u001b[0m\u001b[1;33m\u001b[0m\u001b[1;33m\u001b[0m\u001b[0m\n\u001b[0;32m      2\u001b[0m \u001b[1;31m#for machine learning module\u001b[0m\u001b[1;33m\u001b[0m\u001b[1;33m\u001b[0m\u001b[0m\n\u001b[0;32m      3\u001b[0m \u001b[1;31m#correlation\u001b[0m\u001b[1;33m\u001b[0m\u001b[1;33m\u001b[0m\u001b[0m\n\u001b[0;32m      4\u001b[0m \u001b[1;33m\u001b[0m\u001b[0m\n\u001b[1;32m----> 5\u001b[1;33m \u001b[0mc\u001b[0m\u001b[1;33m=\u001b[0m\u001b[0mdata\u001b[0m\u001b[1;33m.\u001b[0m\u001b[0mlabel\u001b[0m\u001b[1;33m.\u001b[0m\u001b[0mastype\u001b[0m\u001b[1;33m(\u001b[0m\u001b[1;34m'category'\u001b[0m\u001b[1;33m)\u001b[0m\u001b[1;33m\u001b[0m\u001b[1;33m\u001b[0m\u001b[0m\n\u001b[0m\u001b[0;32m      6\u001b[0m \u001b[0mtargets\u001b[0m\u001b[1;33m=\u001b[0m\u001b[0mdict\u001b[0m\u001b[1;33m(\u001b[0m\u001b[0menumerate\u001b[0m\u001b[1;33m(\u001b[0m\u001b[0mc\u001b[0m\u001b[1;33m.\u001b[0m\u001b[0mcat\u001b[0m\u001b[1;33m.\u001b[0m\u001b[0mcategories\u001b[0m\u001b[1;33m)\u001b[0m\u001b[1;33m)\u001b[0m\u001b[1;33m\u001b[0m\u001b[1;33m\u001b[0m\u001b[0m\n\u001b[0;32m      7\u001b[0m \u001b[0mdata\u001b[0m\u001b[1;33m[\u001b[0m\u001b[1;34m'target'\u001b[0m\u001b[1;33m]\u001b[0m\u001b[1;33m=\u001b[0m\u001b[0mc\u001b[0m\u001b[1;33m.\u001b[0m\u001b[0mcat\u001b[0m\u001b[1;33m.\u001b[0m\u001b[0mcodes\u001b[0m\u001b[1;33m\u001b[0m\u001b[1;33m\u001b[0m\u001b[0m\n\u001b[0;32m      8\u001b[0m \u001b[0my\u001b[0m\u001b[1;33m=\u001b[0m\u001b[0mdata\u001b[0m\u001b[1;33m.\u001b[0m\u001b[0mtarget\u001b[0m\u001b[1;33m\u001b[0m\u001b[1;33m\u001b[0m\u001b[0m\n",
      "\u001b[1;32mc:\\Users\\SHADIA\\AppData\\Local\\Programs\\Python\\Python312\\Lib\\site-packages\\pandas\\core\\generic.py\u001b[0m in \u001b[0;36m?\u001b[1;34m(self, name)\u001b[0m\n\u001b[0;32m   6295\u001b[0m             \u001b[1;32mand\u001b[0m \u001b[0mname\u001b[0m \u001b[1;32mnot\u001b[0m \u001b[1;32min\u001b[0m \u001b[0mself\u001b[0m\u001b[1;33m.\u001b[0m\u001b[0m_accessors\u001b[0m\u001b[1;33m\u001b[0m\u001b[1;33m\u001b[0m\u001b[0m\n\u001b[0;32m   6296\u001b[0m             \u001b[1;32mand\u001b[0m \u001b[0mself\u001b[0m\u001b[1;33m.\u001b[0m\u001b[0m_info_axis\u001b[0m\u001b[1;33m.\u001b[0m\u001b[0m_can_hold_identifiers_and_holds_name\u001b[0m\u001b[1;33m(\u001b[0m\u001b[0mname\u001b[0m\u001b[1;33m)\u001b[0m\u001b[1;33m\u001b[0m\u001b[1;33m\u001b[0m\u001b[0m\n\u001b[0;32m   6297\u001b[0m         \u001b[1;33m)\u001b[0m\u001b[1;33m:\u001b[0m\u001b[1;33m\u001b[0m\u001b[1;33m\u001b[0m\u001b[0m\n\u001b[0;32m   6298\u001b[0m             \u001b[1;32mreturn\u001b[0m \u001b[0mself\u001b[0m\u001b[1;33m[\u001b[0m\u001b[0mname\u001b[0m\u001b[1;33m]\u001b[0m\u001b[1;33m\u001b[0m\u001b[1;33m\u001b[0m\u001b[0m\n\u001b[1;32m-> 6299\u001b[1;33m         \u001b[1;32mreturn\u001b[0m \u001b[0mobject\u001b[0m\u001b[1;33m.\u001b[0m\u001b[0m__getattribute__\u001b[0m\u001b[1;33m(\u001b[0m\u001b[0mself\u001b[0m\u001b[1;33m,\u001b[0m \u001b[0mname\u001b[0m\u001b[1;33m)\u001b[0m\u001b[1;33m\u001b[0m\u001b[1;33m\u001b[0m\u001b[0m\n\u001b[0m",
      "\u001b[1;31mAttributeError\u001b[0m: 'DataFrame' object has no attribute 'label'"
     ]
    }
   ],
   "source": [
    "#Data preprocessing\n",
    "#for machine learning module\n",
    "#correlation\n",
    "\n",
    "c=data.label.astype('category')\n",
    "targets=dict(enumerate(c.cat.categories))\n",
    "data['target']=c.cat.codes\n",
    "y=data.target\n",
    "x=data[['N','P','K','temperature','humidity','rainfall','ph']]\n"
   ]
  },
  {
   "cell_type": "code",
   "execution_count": null,
   "metadata": {},
   "outputs": [],
   "source": [
    "#Data cleaning\n",
    "#check for missing values again \n",
    "#import pandas as pd\n",
    "print(data.isnull().sum())"
   ]
  },
  {
   "cell_type": "code",
   "execution_count": 5,
   "metadata": {},
   "outputs": [
    {
     "name": "stdout",
     "output_type": "stream",
     "text": [
      "number_siblings     0\n",
      "name                0\n",
      "gender              0\n",
      "age                 0\n",
      "living_allowance    7\n",
      "have_bf_gf          0\n",
      "profession          0\n",
      "daily_meals         0\n",
      "dtype: int64\n"
     ]
    }
   ],
   "source": [
    "x= data.isna().sum()\n",
    "print(x)"
   ]
  },
  {
   "cell_type": "code",
   "execution_count": null,
   "metadata": {},
   "outputs": [],
   "source": [
    "import pandas as pd\n",
    "\n",
    "# Read the CSV file\n",
    "data = pd.read_csv('bse_data.csv')\n",
    "\n",
    "# Remove commas and convert to numeric\n",
    "data['living_allowance'] = data['living_allowance'].str.replace(',', '')\n",
    "data['living_allowance'] = pd.to_numeric(data['living_allowance'], errors='coerce')\n",
    "\n",
    "# Calculate the median of the living_allowance column\n",
    "median_value = data['living_allowance'].median()\n",
    "\n",
    "# Fill NaN values with the median\n",
    "data['living_allowance'].fillna(median_value, inplace=True)\n",
    "\n",
    "# Print the first 8 rows of the dataframe\n",
    "print(data.head(8))\n"
   ]
  },
  {
   "cell_type": "code",
   "execution_count": 7,
   "metadata": {},
   "outputs": [
    {
     "data": {
      "image/png": "[encoded data removed]",
      "text/plain": [
       "<Figure size 640x480 with 1 Axes>"
      ]
     },
     "metadata": {},
     "output_type": "display_data"
    }
   ],
   "source": [
    "\n",
    "import matplotlib.pyplot as plt\n",
    "# siblings\n",
    "\n",
    "siblings_counts = data['number_siblings'].value_counts()\n",
    "# Create a pie chart\n",
    "# plt.figure(figsize=(9, 9))\n",
    "plt.pie(siblings_counts, labels=siblings_counts.index, autopct='%1.1f%%', startangle=140)\n",
    "plt.title('Distribution of Number of Siblings')\n",
    "plt.axis('equal')\n",
    "plt.show()"
   ]
  },
  {
   "cell_type": "code",
   "execution_count": null,
   "metadata": {},
   "outputs": [],
   "source": [
    "import pandas as pd\n",
    "import numpy as np\n",
    "data=pd.read_csv('crop.csv')\n",
    "print(data)\n"
   ]
  },
  {
   "cell_type": "code",
   "execution_count": null,
   "metadata": {},
   "outputs": [],
   "source": [
    "#crop analysis\n",
    "print(data.isnull().sum())"
   ]
  },
  {
   "cell_type": "code",
   "execution_count": null,
   "metadata": {},
   "outputs": [],
   "source": [
    "#Summary statistics\n",
    "#Explanatory data analysis\n",
    "print(data.describe())"
   ]
  },
  {
   "cell_type": "code",
   "execution_count": null,
   "metadata": {},
   "outputs": [],
   "source": [
    "#check for nul missing values\n",
    "import seaborn as sns\n",
    "sns.heatmap(data.isnull(),yticklabels=False,cbar=False,cmap='viridis')\n",
    "\n",
    "\n"
   ]
  },
  {
   "cell_type": "code",
   "execution_count": null,
   "metadata": {},
   "outputs": [],
   "source": [
    "\n",
    "print(data['temperature'].value_counts())"
   ]
  },
  {
   "cell_type": "code",
   "execution_count": null,
   "metadata": {},
   "outputs": [],
   "source": [
    "\n",
    "import matplotlib.pyplot as plt\n",
    "\n",
    "sns.histplot(data['temperature'],color='pink',bins=30,kde=True)\n",
    "plt.title('temperature distribution')\n",
    "plt.show()"
   ]
  },
  {
   "cell_type": "code",
   "execution_count": null,
   "metadata": {},
   "outputs": [],
   "source": [
    "#method 2\n",
    "#N is the nitrogen\n",
    "#k is the Potasium\n",
    "#p \n",
    "sns.heatmap(data.isnull(),cmap='coolwarm')\n",
    "plt.show()"
   ]
  },
  {
   "cell_type": "code",
   "execution_count": null,
   "metadata": {},
   "outputs": [],
   "source": [
    "# Correlation, relationship between columns\n",
    "c =data.label.astype('category')\n",
    "targets = dict(enumerate(c.cat.categories))\n",
    "data['target'] = c.cat.codes\n",
    "\n",
    "y = data.target\n",
    "X = data[['N', 'P', 'temperature','humidity','ph','rainfall']]\n",
    "\n",
    "sns.heatmap(X.corr())\n",
    "plt.title(\"Correlation\")\n",
    "plt.show()"
   ]
  },
  {
   "cell_type": "code",
   "execution_count": null,
   "metadata": {},
   "outputs": [],
   "source": [
    "#Phosphorous level\n",
    "sns.boxplot(y='label',x='ph',data=data, palette='plasma_r')\n",
    "plt.title('phosphorous level')\n",
    "plt.show()\n"
   ]
  },
  {
   "cell_type": "code",
   "execution_count": null,
   "metadata": {},
   "outputs": [],
   "source": [
    "import pandas as pd"
   ]
  },
  {
   "cell_type": "code",
   "execution_count": null,
   "metadata": {},
   "outputs": [],
   "source": [
    "#Phosphorous level\n",
    "sns.boxplot(x='label',y='ph',data=data, palette='plasma_r')\n",
    "plt.title('phosphorous level')\n",
    "plt.show()\n"
   ]
  },
  {
   "cell_type": "code",
   "execution_count": null,
   "metadata": {},
   "outputs": [],
   "source": [
    "#Phosphorous level\n",
    "sns.boxplot(x='label',y='ph',data=data[data['rainfall']>150])\n",
    "plt.title('phosphorous level')\n",
    "plt.show()\n"
   ]
  },
  {
   "cell_type": "code",
   "execution_count": null,
   "metadata": {},
   "outputs": [],
   "source": [
    "\n",
    "sns.countplot(y='label',data=data)\n",
    "plt.title('label distribution')\n",
    "plt.show()\n"
   ]
  },
  {
   "cell_type": "code",
   "execution_count": null,
   "metadata": {},
   "outputs": [],
   "source": [
    "#Data Visualization:Visualization helps to gain more insights from the data\n",
    "import seaborn as sns\n",
    "import matplotlib.pyplot as plt\n",
    "#have bf gf by gender\n",
    "sns.barplot(x='gender',y='have_bf_gf',data=data)\n",
    "\n"
   ]
  },
  {
   "cell_type": "code",
   "execution_count": null,
   "metadata": {},
   "outputs": [],
   "source": [
    "data['living_allowance'] = data['living_allowance'].fillna(data['living_allowance'].mode())\n",
    "\n",
    "print(data.head(5))"
   ]
  },
  {
   "cell_type": "code",
   "execution_count": null,
   "metadata": {},
   "outputs": [],
   "source": [
    "#Distribution of professional\n",
    "print(data['profession'])\n"
   ]
  }
 ],
 "metadata": {
  "kernelspec": {
   "display_name": "Python 3",
   "language": "python",
   "name": "python3"
  },
  "language_info": {
   "codemirror_mode": {
    "name": "ipython",
    "version": 3
   },
   "file_extension": ".py",
   "mimetype": "text/x-python",
   "name": "python",
   "nbconvert_exporter": "python",
   "pygments_lexer": "ipython3",
   "version": "3.12.4"
  }
 },
 "nbformat": 4,
 "nbformat_minor": 2
}
